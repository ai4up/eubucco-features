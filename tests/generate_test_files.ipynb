{
 "cells": [
  {
   "cell_type": "code",
   "execution_count": 1,
   "metadata": {},
   "outputs": [],
   "source": [
    "import sys\n",
    "import os\n",
    "\n",
    "import rasterio\n",
    "import geopandas as gpd\n",
    "import osmnx as ox\n",
    "\n",
    "# project lib\n",
    "PROJECT_SRC_PATH = os.path.join(os.path.abspath(''), '..')\n",
    "sys.path.append(PROJECT_SRC_PATH)\n",
    "\n",
    "import util"
   ]
  },
  {
   "cell_type": "code",
   "execution_count": 2,
   "metadata": {},
   "outputs": [],
   "source": [
    "%load_ext autoreload\n",
    "%autoreload 2"
   ]
  },
  {
   "cell_type": "code",
   "execution_count": 5,
   "metadata": {},
   "outputs": [],
   "source": [
    "GHS_built_up_path = os.path.join(PROJECT_SRC_PATH, \"data\", \"GHS_BUILT_C_MSZ_E2018_GLOBE_R2023A_54009_10_V1_0_R4_C19.tif\")\n",
    "topo_path = os.path.join(PROJECT_SRC_PATH, \"data\", \"gmted2010-mea075.tif\")\n",
    "GHS_pop_path = os.path.join(PROJECT_SRC_PATH, \"data\", \"GHS_POP_E2020_GLOBE_R2023A_54009_100_V1_0.tif\")\n",
    "\n",
    "corine_lu_path = os.path.join(PROJECT_SRC_PATH, \"data\", \"U2018_CLC2018_V2020_20u1.gpkg\")\n",
    "oceans_path = os.path.join(PROJECT_SRC_PATH, \"data\", \"OSM-water-polygons-split.gpkg\")\n",
    "\n",
    "cdd_path = os.path.join(PROJECT_SRC_PATH, \"data\", \"CDD_historical_mean_v1.nc\")\n",
    "hdd_path = os.path.join(PROJECT_SRC_PATH, \"data\", \"HDD_historical_mean_v1.nc\")\n",
    "\n",
    "dir_out = os.path.join(PROJECT_SRC_PATH, \"tests\", \"data\", \"Vaugneray\")\n",
    "city_path = os.path.join(PROJECT_SRC_PATH, \"tests\", \"data\", \"Vaugneray\")\n",
    "buildings = util.load_buildings(city_path)\n"
   ]
  },
  {
   "cell_type": "code",
   "execution_count": null,
   "metadata": {},
   "outputs": [],
   "source": [
    "# Raster .tif data\n",
    "\n",
    "for file in [topo_path, GHS_pop_path, GHS_built_up_path]:\n",
    "    file_out = os.path.basename(file).replace(\".tif\", \"_test_region.tif\")\n",
    "    path_out = os.path.join(dir_out, file_out)\n",
    "\n",
    "    area = util.bbox(buildings, buffer=10000)\n",
    "    raster, meta = util.read_area(file, area)\n",
    "    with rasterio.open(path_out, \"w\", **meta) as dest:\n",
    "        dest.write(raster)\n"
   ]
  },
  {
   "cell_type": "code",
   "execution_count": null,
   "metadata": {},
   "outputs": [
    {
     "name": "stderr",
     "output_type": "stream",
     "text": [
      "/usr/local/Caskroom/miniconda/base/envs/eubucco-features/lib/python3.10/site-packages/geopandas/io/file.py:484: UserWarning: More than one layer found in 'U2018_CLC2018_V2020_20u1.gpkg': 'U2018_CLC2018_V2020_20u1' (default), 'U2018_CLC2018_V2020_20u1_FR_REU', 'U2018_CLC2018_V2020_20u1_FR_GLP', 'U2018_CLC2018_V2020_20u1_FR_GUF', 'U2018_CLC2018_V2020_20u1_FR_MTQ', 'U2018_CLC2018_V2020_20u1_FR_MYT'. Specify layer parameter to avoid this warning.\n",
      "  crs = pyogrio.read_info(path_or_bytes).get(\"crs\")\n",
      "/usr/local/Caskroom/miniconda/base/envs/eubucco-features/lib/python3.10/site-packages/pyogrio/geopandas.py:265: UserWarning: More than one layer found in 'U2018_CLC2018_V2020_20u1.gpkg': 'U2018_CLC2018_V2020_20u1' (default), 'U2018_CLC2018_V2020_20u1_FR_REU', 'U2018_CLC2018_V2020_20u1_FR_GLP', 'U2018_CLC2018_V2020_20u1_FR_GUF', 'U2018_CLC2018_V2020_20u1_FR_MTQ', 'U2018_CLC2018_V2020_20u1_FR_MYT'. Specify layer parameter to avoid this warning.\n",
      "  result = read_func(\n"
     ]
    }
   ],
   "source": [
    "# Land use\n",
    "\n",
    "box = util.bbox(buildings, crs=\"EPSG:3035\", buffer=10000)\n",
    "lu = gpd.read_file(corine_lu_path, bbox=box)\n",
    "lu.to_file(os.path.join(dir_out, \"corine_landuse_test_region.gpkg\"), driver=\"GPKG\")"
   ]
  },
  {
   "cell_type": "code",
   "execution_count": null,
   "metadata": {},
   "outputs": [],
   "source": [
    "# OCEANS / COAST\n",
    "\n",
    "box = util.bbox(buildings, crs=\"EPSG:3857\", buffer=1e6)\n",
    "oceans = gpd.read_file(oceans_path, bbox=box)\n",
    "oceans.to_file(os.path.join(dir_out, \"OSM_oceans_test_region.gpkg\"), driver=\"GPKG\")"
   ]
  },
  {
   "cell_type": "code",
   "execution_count": null,
   "metadata": {},
   "outputs": [
    {
     "name": "stderr",
     "output_type": "stream",
     "text": [
      "/Users/fnachtigall/workspace/eubucco-features/tests/../features/poi.py:62: FutureWarning: The `utils.config` function is deprecated and will be removed in the v2.0.0 release. Instead, use the `settings` module directly to configure a global setting's value. For example, `ox.settings.log_console=True`. See the OSMnx v2 migration guide: https://github.com/gboeing/osmnx/issues/1123\n",
      "  ox.config(timeout=1000)\n",
      "/Users/fnachtigall/workspace/eubucco-features/tests/../features/poi.py:66: FutureWarning: The `geometries` module and `geometries_from_X` functions have been renamed the `features` module and `features_from_X` functions. Use these instead. The `geometries` module and function names are deprecated and will be removed in the v2.0.0 release. See the OSMnx v2 migration guide: https://github.com/gboeing/osmnx/issues/1123\n",
      "  pois = ox.geometries.geometries_from_bbox(north, south, east, west, tags)\n",
      "/usr/local/Caskroom/miniconda/base/envs/eubucco-features/lib/python3.10/site-packages/osmnx/geometries.py:48: FutureWarning: The `north`, `south`, `east`, and `west` parameters are deprecated and will be removed in the v2.0.0 release. Use the `bbox` parameter instead. See the OSMnx v2 migration guide: https://github.com/gboeing/osmnx/issues/1123\n",
      "  return features.features_from_bbox(north, south, east, west, tags=tags)\n",
      "/usr/local/Caskroom/miniconda/base/envs/eubucco-features/lib/python3.10/site-packages/osmnx/_overpass.py:285: FutureWarning: `settings.timeout` is deprecated and will be removed in the v2.0.0 release: use `settings.requests_timeout` instead. See the OSMnx v2 migration guide: https://github.com/gboeing/osmnx/issues/1123\n",
      "  overpass_settings = _make_overpass_settings()\n",
      "/usr/local/Caskroom/miniconda/base/envs/eubucco-features/lib/python3.10/site-packages/osmnx/_overpass.py:395: FutureWarning: `settings.timeout` is deprecated and will be removed in the v2.0.0 release: use `settings.requests_timeout` instead. See the OSMnx v2 migration guide: https://github.com/gboeing/osmnx/issues/1123\n",
      "  yield _overpass_request(data={\"data\": query_str})\n",
      "/usr/local/Caskroom/miniconda/base/envs/eubucco-features/lib/python3.10/site-packages/osmnx/_overpass.py:451: FutureWarning: `settings.timeout` is deprecated and will be removed in the v2.0.0 release: use `settings.requests_timeout` instead. See the OSMnx v2 migration guide: https://github.com/gboeing/osmnx/issues/1123\n",
      "  this_pause = _get_overpass_pause(overpass_endpoint)\n"
     ]
    }
   ],
   "source": [
    "# POIs\n",
    "\n",
    "box = util.bbox(buildings, crs=\"EPSG:3857\", buffer=5000)\n",
    "pois = poi.download(box)\n",
    "pois.to_file(os.path.join(dir_out, \"Vaugneray_pois.gpkg\"), driver=\"GPKG\")"
   ]
  },
  {
   "cell_type": "code",
   "execution_count": null,
   "metadata": {},
   "outputs": [],
   "source": [
    "# OSM buildings\n",
    "\n",
    "ox.config(timeout=1000)\n",
    "tags = {'building': True}\n",
    "\n",
    "box = util.bbox(buildings, crs=\"EPSG:4326\")\n",
    "east, south, west, north = box.total_bounds\n",
    "osm_bldgs = ox.geometries.geometries_from_bbox(north, south, east, west, tags)\n",
    "# osm_bldgs[['geometry', 'height', 'building']].to_file('../tests/data/Vaugneray/Vaugneray_osm_bldgs.gpkg', driver='GPKG')\n",
    "osm_bldgs['old_geometry'] = osm_bldgs['geometry']\n",
    "osm_bldgs['type_source'] = osm_bldgs['building']\n",
    "osm_bldgs['geometry'] = osm_bldgs['geometry'].apply(lambda x: x.wkt)\n",
    "osm_bldgs[['geometry', 'height', 'type_source']].to_csv(os.path.join(dir_out, \"Vaugneray_osm_bldgs.csv\"), index=False)"
   ]
  },
  {
   "cell_type": "code",
   "execution_count": null,
   "metadata": {},
   "outputs": [],
   "source": []
  }
 ],
 "metadata": {
  "kernelspec": {
   "display_name": "eubucco-features",
   "language": "python",
   "name": "python3"
  },
  "language_info": {
   "codemirror_mode": {
    "name": "ipython",
    "version": 3
   },
   "file_extension": ".py",
   "mimetype": "text/x-python",
   "name": "python",
   "nbconvert_exporter": "python",
   "pygments_lexer": "ipython3",
   "version": "3.10.15"
  }
 },
 "nbformat": 4,
 "nbformat_minor": 2
}
